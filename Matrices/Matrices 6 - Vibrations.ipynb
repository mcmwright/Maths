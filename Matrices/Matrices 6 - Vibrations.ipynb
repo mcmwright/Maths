{
 "cells": [
  {
   "cell_type": "markdown",
   "metadata": {},
   "source": [
    "# Free vibration\n",
    "M C M Wright, ISVR, University of Southampton"
   ]
  },
  {
   "cell_type": "code",
   "execution_count": 4,
   "metadata": {
    "collapsed": false
   },
   "outputs": [
    {
     "name": "stdout",
     "output_type": "stream",
     "text": [
      "Populating the interactive namespace from numpy and matplotlib\n"
     ]
    }
   ],
   "source": [
    "%pylab inline"
   ]
  },
  {
   "cell_type": "markdown",
   "metadata": {},
   "source": [
    "## Notebook overview\n",
    "In this notebook we'll apply what we've learned about matrices to the dynamics of vibrating systems."
   ]
  },
  {
   "cell_type": "markdown",
   "metadata": {},
   "source": [
    "A rigid body with a mass of $m\\,\\mbox{kg}$ mounted on a spring of stiffness $k\\,\\mbox{Nm}^{-1}$ and a damper with damping coefficient $c\\,\\mbox{Nsm}^{-1}$, and having displacement $x(t)\\,\\mbox{m}$ from its equilibrium at time $t\\,\\mbox{s}$ obeys the differential equation\n",
    "\n",
    "$$\n",
    "m\\ddot{x} + c\\dot{x} + kx = 0, \\tag{1}\n",
    "$$\n",
    "\n",
    "where $\\dot{x}$ and $\\ddot{x}$ are the first and second derivatives of $x$ with respect to time,\n",
    "which it is convenient to rearrange like this\n",
    "\n",
    "$$\n",
    "\\ddot{x} + \\frac{c}{m}\\dot{x} + \\frac{k}{m}x = 0,\n",
    "$$\n",
    "\n",
    "or this\n",
    "\n",
    "$$\n",
    "\\ddot{x} = - \\frac{k}{m}x  -\\frac{c}{m}\\dot{x}.\n",
    "$$\n",
    "\n",
    "This is a second-order linear ordinary differential equation, which we'd like to solve for particular initial conditions. If any two out of the three quantities $x$, $\\dot{x}$ and $\\ddot{x}$ are known then the third can be obtained from ($1$), so the *state* of the system can be determined from, say, $x$ and $\\dot{x}$. We'll define the *state vector*\n",
    "\n",
    "$$\n",
    "\\mathbf{x} = \\begin{pmatrix} x \\\\ \\dot{x} \\end{pmatrix}\n",
    "$$\n",
    "\n",
    "and identify every point in the plane with a possible state of the system. This space is referred to as *phase-space*; state-space would be a better term for it but that has special connotations in control theory.\n",
    "\n",
    "#### Exercise\n",
    "Suppose the system was given an initial condition of $\\mathbf{x}_0 = \\begin{pmatrix}1 \\\\ 0\\end{pmatrix}$, i.e. a positive (to the right) displacement with no initial velocity and was released. Sketch its subsequent trajectory in phase space? "
   ]
  },
  {
   "cell_type": "markdown",
   "metadata": {},
   "source": [
    "The time derivative of the state vector can be written\n",
    "\n",
    "$$\n",
    "\\dot{\\mathbf{x}} = \\mathbf{Ax}.\n",
    "$$\n",
    "\n",
    "with\n",
    "\n",
    "$$\n",
    "\\mathbf{A} = \\begin{pmatrix} 0 & 1 \\\\ -k/m & -c/m \\end{pmatrix}.\n",
    "$$\n",
    "\n",
    "so that\n",
    "\n",
    "$$\n",
    "\\frac{\\mathrm{d}}{\\mathrm{d}t} \\begin{pmatrix} x \\\\ \\dot{x} \\end{pmatrix} =\n",
    "\\begin{pmatrix} \\dot{x} \\\\ \\ddot{x} \\end{pmatrix} =\n",
    "\\begin{pmatrix} 0 & 1 \\\\ -k/m & -c/m \\end{pmatrix}\\begin{pmatrix} x \\\\ \\dot{x} \\end{pmatrix}.\n",
    "$$\n",
    "\n",
    "We have rewritten a second-order scalar ODE into a first-order vector ODE, and any constant-coefficient linear ODE of *any* order can be written in the form $\\dot{\\mathbf{x}}=\\mathbf{Ax}$ in this way. We can devise a particularly crude numerical scheme to solve it as follows\n",
    "\n",
    "$$\n",
    "\\mathbf{x}(t+\\delta t) \\approx \\mathbf{x}(t) + \\delta t \\dot{\\mathbf{x}}(t) =\n",
    "\\mathbf{x}(t) + \\delta t \\mathbf{Ax}(t)=(\\mathbf{I}+\\delta t\\mathbf{A})\\mathbf{x}(t).\n",
    "$$\n",
    "\n"
   ]
  },
  {
   "cell_type": "markdown",
   "metadata": {},
   "source": [
    "#### Worked example\n",
    "\n",
    "Implement this scheme and use it to estimate the behaviour of a system with $m = 1\\,\\mbox{kg}$, $k=1\\,\\mbox{Nm}^{-1}$and $c=0.25\\,\\mbox{Nsm}^{-1}$ over the course  of  a minute, using  $\\delta t=0.1\\,\\mbox{s}$.\n",
    "\n",
    "#### Solution"
   ]
  },
  {
   "cell_type": "code",
   "execution_count": 63,
   "metadata": {
    "collapsed": false,
    "scrolled": false
   },
   "outputs": [
    {
     "data": {
      "text/plain": [
       "(-0.80000000000000004, 1.0, -1.0, 0.80000000000000004)"
      ]
     },
     "execution_count": 63,
     "metadata": {},
     "output_type": "execute_result"
    },
    {
     "data": {
      "image/png": "[encoded data removed]",
      "text/plain": [
       "<matplotlib.figure.Figure at 0xf34d4e0>"
      ]
     },
     "metadata": {},
     "output_type": "display_data"
    }
   ],
   "source": [
    "k = m = 1\n",
    "c = 0.25\n",
    "dt = 0.1\n",
    "N = int(60/dt)                  # Number of time steps in a minute\n",
    "\n",
    "x_num = matrix(zeros((2,N)))\n",
    "x_num[:, 0] = matrix([[1], [0]])    # Initial conditions\n",
    "\n",
    "A = matrix([[0, 1], [-k/m, -c/m]])\n",
    "I = eye(2)\n",
    "\n",
    "for i in range(1, N):\n",
    "    x_num[:, i] = (I + dt*A)*x_num[:, i-1]\n",
    "\n",
    "plot(x_num[0, 0], x_num[1,0], 'ro')\n",
    "plot(x_num[0, :], x_num[1,:], 'b.')\n",
    "xlabel('Displacement')\n",
    "ylabel('Velocity')\n",
    "axis('equal')"
   ]
  },
  {
   "cell_type": "markdown",
   "metadata": {},
   "source": [
    "#### Exercises\n",
    "1. Modify the code so that $c=2\\,\\mbox{Nsm}^{-1}$. Try to predict how the (estimated) trajectory will change *before* you execute the code.\n",
    "\n",
    "2. Now set $c=0.1\\,\\mbox{Nsm}^{-1}$. Is the result what you would expect?\n",
    "\n",
    "3. Repeat with $c=0.05\\,\\mbox{Nsm}^{-1}$. Is the predicted behaviour physically possible?\n",
    "\n",
    "4. Repeat the previous two cases with $\\delta t=0.05\\,\\mbox{s}$.\n",
    "\n",
    "5. Return to the original values and modify the code so that it plots displacement as a function of time."
   ]
  },
  {
   "cell_type": "markdown",
   "metadata": {},
   "source": [
    "## Matrix exponential\n",
    "\n",
    "We can compare this approximate solution to the exact solution. The solution of the first-order scalar ODE $\\dot{x}=ax$ is  $x(t) = x_0 \\mathrm{e}^{at}$. Similarly the solution to the first-order vector ODE $\\dot{\\mathbf{x}}=\\mathbf{Ax}$ is\n",
    "\n",
    "$$\n",
    "\\mathbf{x}(t) = \\exp(\\mathbf{A}t)\\,\\mathbf{x}_0,\n",
    "$$\n",
    "\n",
    "where the matrix exponential is defined in a similar manner to the regular exponential:\n",
    "\n",
    "$$\n",
    "\\begin{split}\n",
    "\\exp\\mathbf{X} &= \\mathbf{I} + \\mathbf{X} + \\frac{1}{2}\\mathbf{X}^2 + \\frac{1}{6}\\mathbf{X}^3 + \\cdots \\\\\n",
    "&= \\sum_{k=0}^\\infty \\frac{\\mathbf{X}^k}{k!}.\n",
    "\\end{split}\n",
    "$$\n",
    "\n",
    "We can see that our approximate scheme was actually a truncated expansion of the exact solution. \n",
    "\n",
    "#### Worked example \n",
    "Caculate the exact solution to the previous example using the matrix exponential and compare it to the numerical estimate.\n",
    "\n",
    "#### Solution\n",
    "\n",
    "If we call the usual NumPy `exp()` function with an array or a matrix it will take the exponential of each element in turn. To calculate the matrix exponential as defined above we need to import the liear algebra library from SciPy:"
   ]
  },
  {
   "cell_type": "code",
   "execution_count": 75,
   "metadata": {
    "collapsed": false
   },
   "outputs": [
    {
     "data": {
      "text/plain": [
       "matrix([[ 1.        ,  2.71828183],\n",
       "        [ 0.36787944,  0.77880078]])"
      ]
     },
     "execution_count": 75,
     "metadata": {},
     "output_type": "execute_result"
    }
   ],
   "source": [
    "exp(A)"
   ]
  },
  {
   "cell_type": "code",
   "execution_count": 70,
   "metadata": {
    "collapsed": false,
    "scrolled": true
   },
   "outputs": [],
   "source": [
    "import scipy.linalg"
   ]
  },
  {
   "cell_type": "code",
   "execution_count": 74,
   "metadata": {
    "collapsed": false
   },
   "outputs": [
    {
     "data": {
      "text/plain": [
       "array([[ 0.57570896,  0.74467362],\n",
       "       [-0.74467362,  0.38954055]])"
      ]
     },
     "execution_count": 74,
     "metadata": {},
     "output_type": "execute_result"
    }
   ],
   "source": [
    "scipy.linalg.expm(A)"
   ]
  },
  {
   "cell_type": "code",
   "execution_count": 119,
   "metadata": {
    "collapsed": false,
    "scrolled": false
   },
   "outputs": [
    {
     "data": {
      "text/plain": [
       "(-0.80000000000000004, 1.0, -1.0, 0.80000000000000004)"
      ]
     },
     "execution_count": 119,
     "metadata": {},
     "output_type": "execute_result"
    },
    {
     "data": {
      "image/png": "[encoded data removed]",
      "text/plain": [
       "<matplotlib.figure.Figure at 0x2ba13898>"
      ]
     },
     "metadata": {},
     "output_type": "display_data"
    }
   ],
   "source": [
    "k = m = 1\n",
    "c = 0.25\n",
    "x0 = matrix([[1], [0]])    # Initial conditions\n",
    "\n",
    "# Numerical\n",
    "\n",
    "dt = 0.1\n",
    "N = int(60/dt)                  # Number of time steps in a minute\n",
    "\n",
    "x_num = matrix(zeros((2,N)))    # Results will be stored here\n",
    "x_num[:, 0] = x0\n",
    "\n",
    "A = matrix([[0, 1], [-k/m, -c/m]])\n",
    "I = eye(2)\n",
    "\n",
    "for i in range(1, N):\n",
    "    x_num[:, i] = (I + dt*A)*x_num[:, i-1]\n",
    "\n",
    "# Exact\n",
    "\n",
    "t = linspace(0, 60, N)\n",
    "x = matrix(zeros((2, len(t))))\n",
    "\n",
    "for i in range(len(t)):\n",
    "    x[:, i] = scipy.linalg.expm(A*t[i])*x0\n",
    "\n",
    "# Plot both    \n",
    "\n",
    "plot(x0[0], x0[1], 'ro')\n",
    "plot(x_num[0, :], x_num[1,:], 'b.')\n",
    "plot(x[0, :].T, x[1, :].T, 'r-')\n",
    "xlabel('Displacement')\n",
    "ylabel('Velocity')\n",
    "axis('equal')"
   ]
  },
  {
   "cell_type": "markdown",
   "metadata": {},
   "source": [
    "We see that the approximate method seriously underestimates the effect of the damping, because it works by approximating the true trajectory by its tangent at each point. Because the true trajectory curves inward travelling in a straight line along its tangent will always take us to a point further from the origin than the true trajectory.\n",
    "\n",
    "#### Exercises\n",
    "1. Go through the modifications you made in the previous set of exercises and compare the exact and numeric solutions.\n",
    "2. Make the calculation of the numerical estimate more efficient by pre-computing the constant matrix $(\\mathbf{I} + \\delta t\\mathbf{A})$ before the loop. \n",
    "3. Improve the acccuracy of the numerical estimate by including another term in the power series expansion of $\\exp(\\mathbf{A}\\delta t)$.\n",
    "4. Make the numerical estimate exact by setting the constant matrix to $\\exp(\\mathbf{A}\\delta t)$."
   ]
  },
  {
   "cell_type": "markdown",
   "metadata": {
    "collapsed": true
   },
   "source": [
    "## Outline\n",
    "\n",
    "- Undamped 1dof\n",
    "- state-space - where next?\n",
    "- matrix form of equations\n",
    "- eigenvalues\n",
    "- matrix exponential\n",
    "\n",
    "$$ \n",
    "m\\ddot{x} = -kx\n",
    "$$\n",
    "\n",
    "$$\n",
    "\\ddot{x} = - \\frac{k}{m}x\n",
    "$$\n",
    "\n",
    "$$\n",
    "\\mathbf{x} = \\begin{pmatrix} x \\\\ \\dot{x} \\end{pmatrix}\n",
    "$$\n",
    "\n",
    "State-space, what happens next?\n",
    "\n",
    "$$\n",
    "\\frac{\\mathrm{d}}{\\mathrm{d}t} \\begin{pmatrix} x \\\\ \\dot{x} \\end{pmatrix} =\n",
    "\\begin{pmatrix} \\dot{x} \\\\ \\ddot{x} \\end{pmatrix} =\n",
    "\\begin{pmatrix} 0 & 1 \\\\ -k/m & 0 \\end{pmatrix}\\begin{pmatrix} x \\\\ \\dot{x} \\end{pmatrix}.\n",
    "$$\n",
    "\n",
    "$$\n",
    "\\mathbf{x}(t) = \\exp(\\mathbf{A}t)\\mathbf{x}_0,\n",
    "$$\n",
    "\n",
    "$$\n",
    "\\begin{split}\n",
    "\\exp\\mathbf{X} &= \\mathbf{I} + \\mathbf{X} + \\frac{1}{2}\\mathbf{X}^2 + \\frac{1}{6}\\mathbf{X}^3 + \\cdots \\\\\n",
    "&= \\sum_{k=0}^\\infty \\frac{\\mathbf{X}^k}{k!}.\n",
    "\\end{split}\n",
    "$$\n",
    "\n",
    "\\begin{split}\n",
    "\\mathbf{x}(t) &= \\exp(\\mathbf{A}t)\\mathbf{x}_0, \\\\\n",
    "&= \\exp(\\mathbf{VLV}^{-1}t)\\mathbf{x}_0, \\\\\n",
    "&= \\left(\\sum_{k=0}^\\infty \\frac{(\\mathbf{VLV}^{-1}t)^k}{k!}\\right)\\mathbf{x}_0, \\\\\n",
    "&= \\mathbf{V}\\left(\\sum_{k=0}^\\infty \\frac{(\\mathbf{L}t)^k}{k!}\\right)\\mathbf{V}^{-1}\\mathbf{x}_0.\n",
    "\\end{split}\n",
    "\n",
    "$$\n",
    "\\mathbf{L} = \\begin{pmatrix}\\lambda_1 & 0 \\\\ 0 & \\lambda_2 \\end{pmatrix},\n",
    "$$\n",
    "\n",
    "then\n",
    "\n",
    "$$\n",
    "(\\mathbf{L}t)^k = \\begin{pmatrix}(\\lambda_1 t)^k & 0 \\\\ 0 & (\\lambda_2 t)^k \\end{pmatrix},\n",
    "$$\n",
    "\n",
    "so that\n",
    "\n",
    "$$\n",
    "\\mathbf{x}(t) = \\mathbf{V}\\begin{pmatrix} \\mathrm{e}^{\\lambda_1 t} & 0 \\\\ 0 & \\mathrm{e}^{\\lambda_1 t} \\end{pmatrix} \\mathbf{V}^{-1}\\mathbf{x}_0.\n",
    "$$\n",
    "\n"
   ]
  },
  {
   "cell_type": "code",
   "execution_count": null,
   "metadata": {
    "collapsed": true
   },
   "outputs": [],
   "source": []
  },
  {
   "cell_type": "code",
   "execution_count": null,
   "metadata": {
    "collapsed": true
   },
   "outputs": [],
   "source": []
  }
 ],
 "metadata": {
  "kernelspec": {
   "display_name": "Python 2",
   "language": "python",
   "name": "python2"
  },
  "language_info": {
   "codemirror_mode": {
    "name": "ipython",
    "version": 2
   },
   "file_extension": ".py",
   "mimetype": "text/x-python",
   "name": "python",
   "nbconvert_exporter": "python",
   "pygments_lexer": "ipython2",
   "version": "2.7.10"
  }
 },
 "nbformat": 4,
 "nbformat_minor": 0
}
