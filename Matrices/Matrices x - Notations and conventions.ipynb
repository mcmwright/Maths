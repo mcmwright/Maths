{
 "cells": [
  {
   "cell_type": "markdown",
   "metadata": {},
   "source": [
    "# Matrix notation and conventions\n",
    "M C M Wright, ISVR, University of Southampton"
   ]
  },
  {
   "cell_type": "code",
   "execution_count": 1,
   "metadata": {
    "collapsed": false
   },
   "outputs": [
    {
     "name": "stdout",
     "output_type": "stream",
     "text": [
      "Populating the interactive namespace from numpy and matplotlib\n"
     ]
    }
   ],
   "source": [
    "%pylab inline"
   ]
  },
  {
   "cell_type": "markdown",
   "metadata": {},
   "source": [
    "## Series overview"
   ]
  },
  {
   "cell_type": "markdown",
   "metadata": {},
   "source": [
    "## Notebook overview\n",
    "This notebook describes the mathematical notations and conventions for matrix algebra and its representation in Python/NumPy. There are actually two ways to represent matrices in NumPy, and each has its own syntax. We'll describe both but only use one in subsequent notebooks."
   ]
  },
  {
   "cell_type": "markdown",
   "metadata": {},
   "source": [
    "## Simultaneous equations\n",
    "Consider a set of three linear equations in three unknowns:\n",
    "\n",
    "$$\n",
    "\\begin{align}\n",
    "3x+5y+2z &= 25.9, \\\\\n",
    "4x+2y+2z &= 19.4, \\\\\n",
    "3x+y &=10.5. \n",
    "\\end{align}\n",
    "$$\n",
    "\n",
    "Here $x$, $y$ and $z$ might represent the unit costs of three different drinks and the RHSs are the costs of three rounds of drinks. We can write this system of equations like this:\n",
    "\n",
    "$$\n",
    "\\begin{pmatrix} 3 & 5 & 2 \\\\\n",
    "4 & 2 & 2 \\\\\n",
    "3 & 1 & 0 \\end{pmatrix}\n",
    "\\begin{pmatrix} x\\\\ y \\\\ z\\end{pmatrix} = \\begin{pmatrix} 25.9\\\\ 19.4 \\\\ 10.5\\end{pmatrix}.\n",
    "$$\n",
    "\n",
    "The first array of numbers in parentheses is a *matrix*, specifically a $3\\times 3$ matrix, which contains $9$ *elements*. The second array in parentheses is a *vector*, as is the RHS. Writing the matrix followed by the vector implies that they are multiplied. Each *row* (horizontal line) of the matrix contains the numbers of each drink that went into the corresponding round. Each element on the RHS of our equation is formed by taking the **scalar product** between a row of the matrix and the vector of unknowns. \n",
    "\n",
    "Matrices with the same number of rows are columns are *square matrices*. Matrices don't have to be square;  when used to reresent systems of simultaneous equations like this square matrices correspond to systems with as many equations as unknowns. When writing the dimensions of a matrix the height (number of rows) comes first, so a $4\\times 3$ matrix is taller than it is wide.\n",
    "\n",
    "In the same way that we use letters to name variables with single values, e.g., $x = 3$, we'll also use letters to represent matrices and vectors and it's common practice to set them bold and upright, so we can write our equation in this way:\n",
    "\n",
    "$$\n",
    "\\mathbf{Ax} = \\mathbf{b}.\n",
    "$$\n",
    "\n",
    "We'll use lower-case letters for vectors and capitals for matrices. Neither of these conventions are universally followed. When writing by hand it's usual to underline the letters that represent vectors and some people find it helpful to double underline the  letters that represent matrices (in the days of handwritten manuscripts underlining a word or phrase was an instruction to the compositor to emphasise it, by setting it either bold or italic)."
   ]
  },
  {
   "cell_type": "markdown",
   "metadata": {},
   "source": [
    "## NumPy representation 1\n",
    "\n",
    "**[If you're familiar with MATLAB watch out for the differences]**\n",
    "\n",
    "We can represent matrices and vectors with numpy arrays so we can form $\\mathbf{A}$ and $\\mathbf{b}$ like this:"
   ]
  },
  {
   "cell_type": "code",
   "execution_count": 2,
   "metadata": {
    "collapsed": true
   },
   "outputs": [],
   "source": [
    "A = array([[3, 5, 2], [4, 2, 2], [3, 1, 0]])\n",
    "b = array([25.9, 19.4, 10.5])"
   ]
  },
  {
   "cell_type": "markdown",
   "metadata": {},
   "source": [
    "We use a nested list (list of lists) to construct the matrix, with the inner lists corresponding to the rows.\n",
    "\n",
    "We can't form $\\mathbf{x}$ until we know the values of the unknowns $x$, $y$ and $z$ which are its elements, but we could guess some values and see if they're right."
   ]
  },
  {
   "cell_type": "code",
   "execution_count": 9,
   "metadata": {
    "collapsed": true
   },
   "outputs": [],
   "source": [
    "x_guess = array([2.5, 3, 1])"
   ]
  },
  {
   "cell_type": "markdown",
   "metadata": {},
   "source": [
    "To see if our guess is right we need to perform the matrix-vector multiplication as defined above. We could write some code to do it with nexted `for` loops, but NumPy has a built-in function to do it. \n",
    "\n",
    "We obseved above that the matrix-vector multiplication was a process of finding a series of scalar products between rows of the matrix and the vector. Scalar products are sometimes called *dot products*, and scalar products between two vectors are often written $\\mathbf{p{.}q}$. NumPy's `dot()` function evaluates such dot products:"
   ]
  },
  {
   "cell_type": "code",
   "execution_count": 10,
   "metadata": {
    "collapsed": false
   },
   "outputs": [
    {
     "name": "stdout",
     "output_type": "stream",
     "text": [
      "32\n"
     ]
    }
   ],
   "source": [
    "print(dot(array([1, 2, 3]), array([4, 5, 6])))"
   ]
  },
  {
   "cell_type": "markdown",
   "metadata": {},
   "source": [
    "and even though it's much less common to write matrix-vector multiplication as $\\mathbf{A{.}x}$ the `dot()` function will perform the correct multiplication:"
   ]
  },
  {
   "cell_type": "code",
   "execution_count": 11,
   "metadata": {
    "collapsed": false
   },
   "outputs": [
    {
     "name": "stdout",
     "output_type": "stream",
     "text": [
      "[ 24.5  18.   10.5]\n"
     ]
    }
   ],
   "source": [
    "print(dot(A, x_guess))"
   ]
  },
  {
   "cell_type": "markdown",
   "metadata": {},
   "source": [
    "...even though `x_guess` doesn't satisfy our sysytem of equations because this result isn't the same as $\\mathbf{b}$.\n",
    "\n",
    "Python has printed the result horizontally whereas we wrote the vector as a column, but since vectors are one-dimensional arrays their orientation doesn't matter. If, for some reason, we constructed a $1\\times 3$ matrix its orientation *would* matter and Python would print it vertically."
   ]
  },
  {
   "cell_type": "code",
   "execution_count": 12,
   "metadata": {
    "collapsed": false
   },
   "outputs": [
    {
     "name": "stdout",
     "output_type": "stream",
     "text": [
      "[[1]\n",
      " [2]\n",
      " [3]]\n"
     ]
    }
   ],
   "source": [
    "print(array([[1], [2], [3]]))"
   ]
  },
  {
   "cell_type": "markdown",
   "metadata": {},
   "source": [
    "#### Exercise\n",
    "Confirm that the matrix-vector multiplication performed by the `dot()` function is correct. You can use Python to do the multiplicaton and addition of single numbers, but not `dot()`."
   ]
  },
  {
   "cell_type": "markdown",
   "metadata": {},
   "source": [
    "## Numpy representation 2\n",
    "\n",
    "**[Simulates MATLAB behaviour but is not widely used]**\n",
    "\n",
    "As well as arrays NumPy has objects called `matrix` that can be constructed in a similar way, but can be multiplied with `*` using the rules of matrix multiplication.  We'll give the Python variable a `_m` suffix to remind us that they're different objects. However, `matrix()` only constructs matrices, so vectors have to be represented by $1\\times N$ matrices."
   ]
  },
  {
   "cell_type": "code",
   "execution_count": 18,
   "metadata": {
    "collapsed": false
   },
   "outputs": [
    {
     "data": {
      "text/plain": [
       "matrix([[ 24.5],\n",
       "        [ 18. ],\n",
       "        [ 10.5]])"
      ]
     },
     "execution_count": 18,
     "metadata": {},
     "output_type": "execute_result"
    }
   ],
   "source": [
    "A_m = matrix([[3, 5, 2], [4, 2, 2], [3, 1, 0]])\n",
    "x_guess_m = matrix([[2.5], [3], [1]])\n",
    "A_m*x_guess_m"
   ]
  },
  {
   "cell_type": "code",
   "execution_count": 17,
   "metadata": {
    "collapsed": false
   },
   "outputs": [
    {
     "data": {
      "text/plain": [
       "matrix([[ 24.5],\n",
       "        [ 18. ],\n",
       "        [ 10.5]])"
      ]
     },
     "execution_count": 17,
     "metadata": {},
     "output_type": "execute_result"
    }
   ],
   "source": [
    "A_m*x_guess_m"
   ]
  },
  {
   "cell_type": "markdown",
   "metadata": {},
   "source": [
    "The of these matrix objects is that you can write products of several matrices such as $\\mathbf{ABCx}$ as `A*B*C*x` rather that `dot(A,dot(B,dot(C,x)))`. Nonetheless, we'll stick with the `array` representation for the rest of this notebook, and this series of notebooks."
   ]
  },
  {
   "cell_type": "markdown",
   "metadata": {},
   "source": [
    "##  Addressing matrix elements\n",
    "In mathematical notation matrix elements are referred to by using two suffices, usually attached to the italic lowercase version of the letter whose bold uppercase letter symbolizes the whole matrix. "
   ]
  }
 ],
 "metadata": {
  "kernelspec": {
   "display_name": "Python 2",
   "language": "python",
   "name": "python2"
  },
  "language_info": {
   "codemirror_mode": {
    "name": "ipython",
    "version": 2
   },
   "file_extension": ".py",
   "mimetype": "text/x-python",
   "name": "python",
   "nbconvert_exporter": "python",
   "pygments_lexer": "ipython2",
   "version": "2.7.10"
  }
 },
 "nbformat": 4,
 "nbformat_minor": 0
}
