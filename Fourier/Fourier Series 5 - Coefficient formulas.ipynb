{
 "cells": [
  {
   "cell_type": "markdown",
   "metadata": {},
   "source": [
    "# Coefficient formulas\n",
    "M. C. M. Wright, ISVR, University of Southampton"
   ]
  },
  {
   "cell_type": "code",
   "execution_count": 1,
   "metadata": {
    "collapsed": false,
    "scrolled": true
   },
   "outputs": [
    {
     "name": "stdout",
     "output_type": "stream",
     "text": [
      "Populating the interactive namespace from numpy and matplotlib\n"
     ]
    }
   ],
   "source": [
    "%pylab inline"
   ]
  },
  {
   "cell_type": "markdown",
   "metadata": {},
   "source": [
    "# Overview\n",
    "The formulas we obtained for the coefficients $a_n$ and $b_n$ can be integrated by hand to obtain explicit formulas for them, as long as an expression is known for the signal in question. Doing so often leads to some difficult integrals, making it an excellent source of maths exam questions. We'll go through the procedure for our sawtooth signal, and it's worth being able to derive coefficient formulas this way, but it's more important to understand the underlying concepts. The nature of the procedure means there won't be much computation in this notebook, though we'll use some to find a mathematical expression for the sawtooth function."
   ]
  },
  {
   "cell_type": "markdown",
   "metadata": {},
   "source": [
    "In the last notebook we established that if a signal $y(t)$ with period $T$ has a convergent Fourier series representation of the form \n",
    "\n",
    "$$\n",
    "y(t) = \\frac{1}{2} a_0 + \\sum_{n=1}^\\infty \\left[ \n",
    "a_n\\cos\\left(\\frac{2\\pi n t}{T}\\right) +\n",
    "b_n\\sin\\left(\\frac{2\\pi n t}{T}\\right) \\right],\n",
    "$$\n",
    "\n",
    "then the coefficients $a_n$ and $b_n$ are given by\n",
    "\n",
    "$$\n",
    "a_n = \\frac{2}{T}\\int_q^{q+T} y(t)\\cos\\left(\\frac{2\\pi nt}{T}\\right)\\,\\mathrm{d}t,\\quad\\text{and}\\quad\n",
    "b_n = \\frac{2}{T}\\int_q^{q+T} y(t)\\sin\\left(\\frac{2\\pi nt}{T}\\right)\\,\\mathrm{d}t.\n",
    "$$\n",
    "\n",
    "We calculated numerical values of coefficients for the sawtooth example by approximating the integral by a summation. In this notebook we'll perform the integrations symbolically to obtain formulas for the coefficients.\n",
    "\n",
    "The result  is independent of $q$ but choosing $q = -T/2$ allows us to simplify the integrals if $y(t)$ is odd, so that $y(-t) = -y(t)$, or even, so that $y(-t) = y(t)$ (it might not be either). We'll rewrite the integrals with this value of $q$:\n",
    "\n",
    "$$\n",
    "a_n = \\frac{2}{T}\\int\\limits_{-T/2}^{T/2} y(t)\\cos\\left(\\frac{2\\pi nt}{T}\\right)\\,\\mathrm{d}t,\\quad\\text{and}\\quad\n",
    "b_n = \\frac{2}{T}\\int\\limits_{-T/2}^{T/2} y(t)\\sin\\left(\\frac{2\\pi nt}{T}\\right)\\,\\mathrm{d}t.\n",
    "$$\n"
   ]
  },
  {
   "cell_type": "markdown",
   "metadata": {},
   "source": [
    "#### Exercises\n",
    "Record the answers to the following questions in a markdown cell.\n",
    "- Is the sine function odd, even or neither?\n",
    "- Is the cosine function odd, even or neither?\n",
    "- If $y(t)$ is odd which set of coefficients vanishes? How can the formula for the other set be simplified?\n",
    "- If $y(t)$ is even which set of coefficients vanishes? How can the formula for the other set be simplified?\n",
    "\n",
    "## Note\n",
    "The question of whether a function is odd, even or neither can only be answered with reference to a time axis with a defined $t=0$. In many applications this is arbitrary, so we can choose it to be wherever makes things easiest. But that only matters when we're performing the integrations by hand; oddness or evenness has no physical significance for most signals."
   ]
  },
  {
   "cell_type": "markdown",
   "metadata": {},
   "source": [
    "## Back to the sawtooth.\n",
    "In order to perform the integrals we need a symbolic form for the sawtooth function $S(t)$ over the interval we're interested in. We'll plot it first:"
   ]
  },
  {
   "cell_type": "code",
   "execution_count": 2,
   "metadata": {
    "collapsed": true
   },
   "outputs": [],
   "source": [
    "import scipy.signal"
   ]
  },
  {
   "cell_type": "code",
   "execution_count": 3,
   "metadata": {
    "collapsed": false
   },
   "outputs": [
    {
     "data": {
      "text/plain": [
       "<matplotlib.text.Text at 0x21c19e8>"
      ]
     },
     "execution_count": 3,
     "metadata": {},
     "output_type": "execute_result"
    },
    {
     "data": {
      "image/png": "[encoded data removed]",
      "text/plain": [
       "<matplotlib.figure.Figure at 0x1703fe48>"
      ]
     },
     "metadata": {},
     "output_type": "display_data"
    }
   ],
   "source": [
    "T = 2*pi\n",
    "t = linspace(-T/2, T/2, 1000)\n",
    "plot(t, scipy.signal.sawtooth(t))\n",
    "xlabel('$t$')"
   ]
  },
  {
   "cell_type": "markdown",
   "metadata": {},
   "source": [
    "We can confirm that it's an odd function by plotting $-y(-t)$ as well:"
   ]
  },
  {
   "cell_type": "code",
   "execution_count": 4,
   "metadata": {
    "collapsed": false,
    "scrolled": true
   },
   "outputs": [
    {
     "data": {
      "text/plain": [
       "<matplotlib.text.Text at 0x170e32b0>"
      ]
     },
     "execution_count": 4,
     "metadata": {},
     "output_type": "execute_result"
    },
    {
     "data": {
      "image/png": "[encoded data removed]",
      "text/plain": [
       "<matplotlib.figure.Figure at 0x172f78d0>"
      ]
     },
     "metadata": {},
     "output_type": "display_data"
    }
   ],
   "source": [
    "T = 2*pi\n",
    "t = linspace(-T/2, T/2, 1000)\n",
    "plot(t, scipy.signal.sawtooth(t), 'y-',\n",
    "    t, -scipy.signal.sawtooth(-t), 'm--')\n",
    "xlabel('$t$')"
   ]
  },
  {
   "cell_type": "markdown",
   "metadata": {},
   "source": [
    "We can probably write down an expression for this function, but it would be even easier to do so if its period was 2 instead of $2\\pi$. Let's defined a new variable $\\tau = t/\\pi$, find a formula for that  and then rewrite it in terms of $t$. "
   ]
  },
  {
   "cell_type": "code",
   "execution_count": 5,
   "metadata": {
    "collapsed": false
   },
   "outputs": [
    {
     "data": {
      "text/plain": [
       "<matplotlib.text.Text at 0x17106128>"
      ]
     },
     "execution_count": 5,
     "metadata": {},
     "output_type": "execute_result"
    },
    {
     "data": {
      "image/png": "[encoded data removed]",
      "text/plain": [
       "<matplotlib.figure.Figure at 0x1772eba8>"
      ]
     },
     "metadata": {},
     "output_type": "display_data"
    }
   ],
   "source": [
    "T = 2*pi\n",
    "t = linspace(-T/2, T/2, 1000)\n",
    "tau = t/pi\n",
    "plot(tau, scipy.signal.sawtooth(t))  # Study this line carefully!\n",
    "xlabel('tau')"
   ]
  },
  {
   "cell_type": "markdown",
   "metadata": {},
   "source": [
    "By inspection we can write an expression for the function of $\\tau$ (which we give the name $S^\\ast$ to distinguish it from $S$):\n",
    "\n",
    "$$\n",
    "S^\\ast(\\tau) = \\begin{cases}\n",
    "\\tau + 1, & -1 \\le \\tau < 0 \\\\\n",
    "\\tau - 1, & 0 \\le \\tau < 1\n",
    "\\end{cases}\n",
    "$$\n",
    "\n",
    "(this doesn't give the right answer outside this interval but we don't need it to).\n",
    "We can create a NumPy function that implements it:"
   ]
  },
  {
   "cell_type": "code",
   "execution_count": 6,
   "metadata": {
    "collapsed": false
   },
   "outputs": [
    {
     "data": {
      "text/plain": [
       "[<matplotlib.lines.Line2D at 0x17a96be0>]"
      ]
     },
     "execution_count": 6,
     "metadata": {},
     "output_type": "execute_result"
    },
    {
     "data": {
      "image/png": "[encoded data removed]",
      "text/plain": [
       "<matplotlib.figure.Figure at 0x16fb42b0>"
      ]
     },
     "metadata": {},
     "output_type": "display_data"
    }
   ],
   "source": [
    "def S_star_scalar(tau):\n",
    "    if -1 <= tau <0:\n",
    "        return tau + 1\n",
    "    if 0 <= tau < 1:\n",
    "        return tau - 1\n",
    "\n",
    "S_star = vectorize(S_star_scalar)\n",
    "\n",
    "tau = linspace(-1, 1, 1000)\n",
    "plot(tau, S_star(tau))"
   ]
  },
  {
   "cell_type": "markdown",
   "metadata": {},
   "source": [
    "We can then write \n",
    "\n",
    "$$\n",
    "S(t) = S^\\ast(\\tau) = S^\\ast(\\pi t) = \\begin{cases}\n",
    "\\tau + 1, & -1 \\le \\pi t < 0 \\\\\n",
    "\\tau - 1, & 0 \\le \\pi t < 1\n",
    "\\end{cases}\n",
    "= \\begin{cases}\n",
    "t/\\pi + 1, & -\\pi \\le  t < 0 \\\\\n",
    "t/\\pi - 1, & 0 \\le  t < \\pi\n",
    "\\end{cases}\n",
    "$$\n",
    "\n",
    "To check this is wite we can define another Python function that implements $S(t)$ and compare it with the original."
   ]
  },
  {
   "cell_type": "code",
   "execution_count": 7,
   "metadata": {
    "collapsed": false
   },
   "outputs": [
    {
     "data": {
      "text/plain": [
       "[<matplotlib.lines.Line2D at 0x19448d30>,\n",
       " <matplotlib.lines.Line2D at 0x19448f60>]"
      ]
     },
     "execution_count": 7,
     "metadata": {},
     "output_type": "execute_result"
    },
    {
     "data": {
      "image/png": "[encoded data removed]",
      "text/plain": [
       "<matplotlib.figure.Figure at 0x178cd5f8>"
      ]
     },
     "metadata": {},
     "output_type": "display_data"
    }
   ],
   "source": [
    "def S_scalar(t):\n",
    "    if -pi <= t < 0:\n",
    "        return t/pi + 1\n",
    "    if 0 <= t < pi:\n",
    "        return t/pi - 1\n",
    "\n",
    "S = vectorize(S_scalar)\n",
    "\n",
    "tau = linspace(-1.1, 1.1, 1000)\n",
    "t = pi*tau\n",
    "plot(t, scipy.signal.sawtooth(t), 'y-',\n",
    "     t, S(t), 'm--')"
   ]
  },
  {
   "cell_type": "markdown",
   "metadata": {},
   "source": [
    "We can now get to work on the integrals. First we have\n",
    "\n",
    "$$\n",
    "a_n = \\frac{1}{\\pi}\\int\\limits_{-\\pi}^{\\pi} S(t)\\cos(nt)\\,\\mathrm{d}t = 0,\n",
    "$$\n",
    "\n",
    "(if you're not sure why go through the exercises above again, or look for hints in the previous notebook). Then we have\n",
    "\n",
    "$$\n",
    "\\begin{align}\n",
    "b_n &= \\frac{1}{\\pi}\\int\\limits_{-\\pi}^{\\pi} S(t)\\sin(nt)\\,\\mathrm{d}t, \\\\\n",
    "& = \\frac{1}{\\pi}\\left(\n",
    "\\int\\limits_{-\\pi}^{0} S(t)\n",
    "\\sin(nt)\\,\\mathrm{d}t\n",
    "+ \\int\\limits_{0}^{\\pi} S(t)\n",
    "\\sin(nt)\\,\\mathrm{d}t\n",
    "\\right)\n",
    "\\end{align}\n",
    "$$\n",
    "\n",
    "and since both $S(t)$ and $\\sin()$ are both odd functions both integrals must have the same value and\n",
    "\n",
    "$$\n",
    "\\begin{align}\n",
    "b_n &=  \\frac{1}{\\pi}\\left(\n",
    "2\\int\\limits_{0}^{\\pi} S(t)\n",
    "\\sin(nt)\\,\\mathrm{d}t \\right)\\\\\n",
    "&= \\frac{2}{\\pi}\\int\\limits_{0}^{\\pi} \\left(\\frac{t}{\\pi} - 1 \\right)\n",
    "\\sin(nt)\\,\\mathrm{d}t \\\\\n",
    "&= \\frac{2}{\\pi^2}\\int\\limits_{0}^{\\pi} \n",
    "t\\sin(nt)\\,\\mathrm{d}t -\n",
    "\\frac{2}{\\pi}\\int\\limits_{0}^{\\pi} \\tag{$\\ast$}\n",
    "\\sin(nt)\\,\\mathrm{d}t\n",
    "\\end{align}\n",
    "$$\n",
    "\n",
    "We can rewrite the first integral using integration by parts.\n",
    "\n",
    "$$\n",
    "\\begin{align}\n",
    "\\frac{2}{\\pi^2}\\int\\limits_{0}^{\\pi} \n",
    "t\\sin(nt)\\,\\mathrm{d}t &= \\frac{2}{\\pi^2}\\left\\{\n",
    "\\left[ t\\left(\\frac{-\\cos(nt)}{n}\\right) \\right]_0^\\pi\n",
    "- \\int\\limits_0^\\pi (1)\\left(\\frac{-\\cos(nt)}{n}\\right)\n",
    "\\right\\} \\, \\mathrm{d}t \\\\\n",
    "&= \\frac{2}{\\pi^2}\\left\\{\n",
    "\\left[ t\\left(\\frac{-\\cos(nt)}{n}\\right) \\right]_0^\\pi\n",
    "- \\left[\\frac{-\\sin(nt)}{n^2}\\right]_0^\\pi\n",
    "\\right\\},\\\\\n",
    "&= \\frac{2}{\\pi^2}\\left\\{\n",
    "\\left(-\\pi\\frac{\\cos(n\\pi)}{n} - 0 \\right) -\n",
    "\\left( -\\frac{\\sin(n\\pi)}{n^2} - 0\\right)\n",
    "\\right\\},\\\\\n",
    "&= -\\frac{2}{\\pi}\\frac{\\cos(n\\pi)}{n} - \\frac{2}{n^2\\pi^2}\\sin(n\\pi),\n",
    "\\end{align}\n",
    "$$\n",
    "the second term of which vanishes because $\\sin(n\\pi) = 0 $ for integer $n$.\n",
    "\n",
    "The second integral in $(\\ast)$ is\n",
    "\n",
    "$$\n",
    "\\begin{align}\n",
    "\\frac{2}{\\pi}\\int\\limits_{0}^{\\pi} \\tag{$\\ast$}\n",
    "\\sin(nt)\\,\\mathrm{d}t &=\n",
    "\\frac{2}{\\pi}\\left[\\frac{-\\cos(nt)}{n}\\right]_0^\\pi \\\\\n",
    "&= \\frac{2}{\\pi}\\left(\\frac{-\\cos(n\\pi)}{n} + \\frac{1}{n}\\right),\n",
    "\\end{align}\n",
    "$$\n",
    "\n",
    "so we have \n",
    "\n",
    "$$\n",
    "\\begin{align}\n",
    "b_n &= -\\frac{2}{\\pi}\\frac{\\cos(n\\pi)}{n} - \\frac{2}{\\pi}\\left(\\frac{-\\cos(n\\pi)}{n} + \\frac{1}{n}\\right) \\\\\n",
    " &= -\\frac{2}{\\pi n},\n",
    "\\end{align}\n",
    "$$\n",
    "\n",
    "which we demonstrated led to a Fourier series that converged to the sawtooth function two notebooks ago."
   ]
  },
  {
   "cell_type": "markdown",
   "metadata": {
    "collapsed": true
   },
   "source": [
    "#### Exercise\n",
    "Do everything that we've done for the sawtooth with the square-wave signal calculated by `scipy.signal.square(t)` (which we'll call $P(t)$) i.e.:\n",
    " 1. Plot it and find its period.\n",
    " 2. Plot its products with sine and cosine waves whose frequencies are integer multiples $m$ of the square-wave's.\n",
    " 3. Use `sum()` to estimate its inner products with these sines and cosines, and use `stem()` to plot how they vary with $m$.\n",
    " 4. Write the formula for the coefficients of its Fourier series representation.\n",
    " 5. Perform the integrations to obtain formulae for these coefficients.\n",
    " 6. Use these formula to plot partial sums of the Fourier series for the square-wave and compare them to the original to examine the convergence and check for Gibbs' phenomenon.\n",
    " 7. Use `stem()` to plot how the amplitudes (in dB) decay with frequency."
   ]
  },
  {
   "cell_type": "markdown",
   "metadata": {
    "collapsed": true
   },
   "source": [
    "## Summary\n",
    "[Edit this cell to make a summary of everything you've learned from this notebook.]"
   ]
  },
  {
   "cell_type": "code",
   "execution_count": null,
   "metadata": {
    "collapsed": true
   },
   "outputs": [],
   "source": []
  }
 ],
 "metadata": {
  "kernelspec": {
   "display_name": "Python 2",
   "language": "python",
   "name": "python2"
  },
  "language_info": {
   "codemirror_mode": {
    "name": "ipython",
    "version": 2
   },
   "file_extension": ".py",
   "mimetype": "text/x-python",
   "name": "python",
   "nbconvert_exporter": "python",
   "pygments_lexer": "ipython2",
   "version": "2.7.10"
  }
 },
 "nbformat": 4,
 "nbformat_minor": 0
}
